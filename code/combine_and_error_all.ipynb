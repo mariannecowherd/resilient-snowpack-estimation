{
 "cells": [
  {
   "cell_type": "code",
   "execution_count": 1,
   "id": "c48bc816-fca9-4606-944d-aa45e95097a9",
   "metadata": {
    "tags": []
   },
   "outputs": [],
   "source": [
    "import pandas as pd\n",
    "import xarray as xr\n",
    "import datetime\n",
    "import os\n",
    "import numpy as np\n",
    "import matplotlib.pyplot as plt\n",
    "import time\n",
    "\n",
    "\n",
    "from sklearn.metrics import mean_squared_error, r2_score"
   ]
  },
  {
   "cell_type": "code",
   "execution_count": 2,
   "id": "e5b604af-ccaa-4cb0-9803-b87b4f730164",
   "metadata": {
    "tags": []
   },
   "outputs": [],
   "source": [
    "from dirs import prepdir\n",
    "from dirs import outputsdir\n",
    "input_folder_path = prepdir\n",
    "meta_data = xr.open_dataset(input_folder_path + 'wrfinput_d02')\n",
    "masks     = xr.open_dataset(input_folder_path + 'basin_masks_filtered.nc')\n",
    "sweBC     = xr.open_dataarray(input_folder_path + 'snowmaxBC.nc')"
   ]
  },
  {
   "cell_type": "code",
   "execution_count": 3,
   "id": "2dc03d7f-9cc0-4879-8e42-c91f723ee5ec",
   "metadata": {
    "tags": []
   },
   "outputs": [],
   "source": [
    "## Read in static fields\n",
    "\n",
    "lat_wrf    = meta_data.variables[\"XLAT\"][0,:,:]\n",
    "lon_wrf    = meta_data.variables[\"XLONG\"][0,:,:]\n",
    "z_wrf      = meta_data.variables[\"HGT\"][0,:,:]\n",
    "vgtyp_wrf  = meta_data.variables[\"IVGTYP\"][0,:,:] ## Table 2: IGBP-Modified MODIS 20-category Land Use Categories\n",
    "vegfra_wrf = meta_data.variables[\"VEGFRA\"][0,:,:] ## Average canopy cover\n",
    "\n",
    "lat_wrf    = xr.DataArray(lat_wrf, dims=[\"lat2d\", \"lon2d\"])\n",
    "lon_wrf    = xr.DataArray(lon_wrf, dims=[\"lat2d\", \"lon2d\"])\n",
    "z_wrf      = xr.DataArray(z_wrf, dims=[\"lat2d\", \"lon2d\"])\n",
    "vgtyp_wrf  = xr.DataArray(vgtyp_wrf, dims=[\"lat2d\", \"lon2d\"]) \n",
    "vegfra_wrf = xr.DataArray(vegfra_wrf, dims=[\"lat2d\", \"lon2d\"])\n",
    "\n",
    "## Compute slope and aspect\n",
    "myslopx, myslopy = np.gradient(z_wrf, 9000)\n",
    "slope_wrf = np.degrees(np.arctan(np.sqrt(myslopx**2 + myslopy**2)))\n",
    "aspect_wrf = np.degrees(np.arctan2(-myslopy,myslopx))\n",
    "## Convert aspect to compass direction (clockwise from north)\n",
    "aspect_q2 = (aspect_wrf > 90) & (aspect_wrf <= 180) ## [90, 180]\n",
    "aspect_wrf = 90.0 - aspect_wrf\n",
    "aspect_wrf[aspect_q2] = 360.0 + aspect_wrf[aspect_q2]\n",
    "\n",
    "\n",
    "gcms = ['cesm2','mpi-esm1-2-lr','cnrm-esm2-1',\n",
    "        'ec-earth3-veg','fgoals-g3','ukesm1-0-ll',\n",
    "        'canesm5','access-cm2','ec-earth3',]\n",
    "\n",
    "\n",
    "variants = ['r11i1p1f1','r7i1p1f1','r1i1p1f2',\n",
    "            'r1i1p1f1','r1i1p1f1','r2i1p1f2',\n",
    "            'r1i1p2f1','r5i1p1f1','r1i1p1f1',]\n",
    "\n",
    "gcm_variants = [f'{item1}_{item2}_ssp370' for item1, item2 in zip(gcms, variants)]"
   ]
  },
  {
   "cell_type": "code",
   "execution_count": 4,
   "id": "37e81370-2ff3-45f8-88f3-1bb033594492",
   "metadata": {
    "tags": []
   },
   "outputs": [],
   "source": [
    "def update_rect (basin_imin, basin_imax, basin_jmin, basin_jmax):\n",
    "    \"\"\"Update the bounding box around the basin such that \n",
    "    the dimensions are multiples of 8.\n",
    "    \"\"\"\n",
    "    lat_extent = basin_imax - basin_imin\n",
    "    lat_pad = int(8*(np.ceil(lat_extent/8) )) - lat_extent\n",
    "\n",
    "    basin_imin = basin_imin - int(np.floor(lat_pad/2))\n",
    "    basin_imax = basin_imax + int(np.ceil(lat_pad/2))\n",
    "    # lat_extent = basin_imax - basin_imin\n",
    "\n",
    "    lon_extent = basin_jmax - basin_jmin\n",
    "    lon_pad = int(8*(np.ceil(lon_extent/8) )) - lon_extent\n",
    "\n",
    "    basin_jmin = basin_jmin - int(np.floor(lon_pad/2))\n",
    "    basin_jmax = basin_jmax + int(np.ceil(lon_pad/2))\n",
    "    # lon_extent = basin_jmax - basin_jmin\n",
    "    \n",
    "    return basin_imin, basin_imax, basin_jmin, basin_jmax\n",
    "\n",
    "def get_basin_rect(basin_id, update_shape=True):\n",
    "\n",
    "    basinmask = masks.basin_masks[basin_id]\n",
    "    mask = basinmask.data.astype(bool)\n",
    "\n",
    "    ## Extract a rectangle encompassing the basin to maintain spatial structure\n",
    "    basin_ii, basin_jj = np.nonzero(mask)\n",
    "    basin_imin, basin_imax = basin_ii.min(), basin_ii.max()+1\n",
    "    basin_jmin, basin_jmax = basin_jj.min(), basin_jj.max()+1\n",
    "    \n",
    "    if update_shape:\n",
    "        return update_rect(basin_imin, basin_imax, basin_jmin, basin_jmax)\n",
    "    \n",
    "    return basin_imin, basin_imax, basin_jmin, basin_jmax\n",
    "\n",
    "def get_dataarray_basin (basin_id, dataarray):\n",
    "    basin_imin, basin_imax, basin_jmin, basin_jmax = get_basin_rect(basin_id)\n",
    "    return dataarray.sel(lat2d=np.arange(basin_imin, basin_imax), lon2d=np.arange(basin_jmin, basin_jmax))\n",
    "\n",
    "def get_dataarray_gcm_year (gcm_id, years, dataarray):\n",
    "    return dataarray.sel(gcm=gcm, time=years)\n",
    "    # return dataarray[gcm_id, years,:].flatten()"
   ]
  },
  {
   "cell_type": "code",
   "execution_count": 5,
   "id": "cae67514-525f-4637-a691-263e95dfa2d0",
   "metadata": {
    "tags": []
   },
   "outputs": [],
   "source": [
    "train_length = 20\n",
    "test_years = np.arange(2001, 2101, 5)\n",
    "train_years = [range(item-train_length, item) for item in test_years]\n",
    "\n",
    "Data_1 = ['knn_snotel', 'Longitude', 'Latitude']\n",
    "Data_2 = Data_1 + ['Elevation', 'Slope', 'Aspect', 'Veg-Type', 'Veg-Frac']\n",
    "Data_3 = Data_2 + ['Cum-fSCA']\n",
    "Data_4 = Data_3 + ['Cum-precip', 'Cum-snow', 'Mean-temp', 'PDD-sum']\n",
    "Data_5 = Data_4 + ['ASO-proxy']"
   ]
  },
  {
   "cell_type": "code",
   "execution_count": 6,
   "id": "10fee6c3-ac2c-487a-92b4-911e5ada2219",
   "metadata": {
    "tags": []
   },
   "outputs": [],
   "source": [
    "src_folder_linreg = 'Fig4_LR_SynthErr_preds/'\n",
    "src_folder_rf = 'Fig4_RF_SynthErr_preds/'\n",
    "src_folder_unet = 'Fig4_Unet_preds/'\n",
    "models = ['linreg', 'RF', 'Unet']\n",
    "folders = [src_folder_linreg, src_folder_rf, src_folder_unet]\n",
    "swe_preds = xr.DataArray(np.full((9, 3, test_years.size, 5, 340, 270), np.nan), dims=['gcm','model', 'test_year', 'pred_combo', 'lat2d', 'lon2d'],\n",
    "            coords={'gcm':gcm_variants,  'model': models, 'test_year' : test_years,\n",
    "                    'pred_combo':['Data_1', 'Data_2', 'Data_3', 'Data_4', 'Data_5']})"
   ]
  },
  {
   "cell_type": "code",
   "execution_count": 7,
   "id": "e0b8a445-e921-47de-8b48-813ccd02e134",
   "metadata": {
    "tags": []
   },
   "outputs": [
    {
     "ename": "FileNotFoundError",
     "evalue": "[Errno 2] No such file or directory: 'Fig4_LR_SynthErr_preds_pillowse2_march5/29_Jordan_cnrm-esm2-1_r1i1p1f2_ssp370_2031_2_linreg.npy'",
     "output_type": "error",
     "traceback": [
      "\u001b[0;31m---------------------------------------------------------------------------\u001b[0m",
      "\u001b[0;31mFileNotFoundError\u001b[0m                         Traceback (most recent call last)",
      "Cell \u001b[0;32mIn[7], line 23\u001b[0m\n\u001b[1;32m     17\u001b[0m \u001b[38;5;28;01mfor\u001b[39;00m test_id \u001b[38;5;129;01min\u001b[39;00m \u001b[38;5;28mrange\u001b[39m(test_years\u001b[38;5;241m.\u001b[39msize):\n\u001b[1;32m     18\u001b[0m \u001b[38;5;66;03m### Will loop over test_id, this will be nested inside gcm_id loop\u001b[39;00m\n\u001b[1;32m     21\u001b[0m     \u001b[38;5;28;01mfor\u001b[39;00m data_id, data_var \u001b[38;5;129;01min\u001b[39;00m \u001b[38;5;28menumerate\u001b[39m([Data_1, Data_2, Data_3, Data_4, Data_5]):\n\u001b[0;32m---> 23\u001b[0m         preds \u001b[38;5;241m=\u001b[39m \u001b[43mnp\u001b[49m\u001b[38;5;241;43m.\u001b[39;49m\u001b[43mload\u001b[49m\u001b[43m(\u001b[49m\u001b[43msrc_folder\u001b[49m\u001b[43m \u001b[49m\u001b[38;5;241;43m+\u001b[39;49m\u001b[43m \u001b[49m\u001b[38;5;124;43mf\u001b[39;49m\u001b[38;5;124;43m'\u001b[39;49m\u001b[38;5;132;43;01m{\u001b[39;49;00m\u001b[43mbasin_id\u001b[49m\u001b[38;5;132;43;01m}\u001b[39;49;00m\u001b[38;5;124;43m_\u001b[39;49m\u001b[38;5;132;43;01m{\u001b[39;49;00m\u001b[43mbasinname\u001b[49m\u001b[38;5;132;43;01m}\u001b[39;49;00m\u001b[38;5;124;43m_\u001b[39;49m\u001b[38;5;132;43;01m{\u001b[39;49;00m\u001b[43mgcm\u001b[49m\u001b[38;5;132;43;01m}\u001b[39;49;00m\u001b[38;5;124;43m_\u001b[39;49m\u001b[38;5;132;43;01m{\u001b[39;49;00m\u001b[43mtest_years\u001b[49m\u001b[43m[\u001b[49m\u001b[43mtest_id\u001b[49m\u001b[43m]\u001b[49m\u001b[38;5;132;43;01m}\u001b[39;49;00m\u001b[38;5;124;43m_\u001b[39;49m\u001b[38;5;132;43;01m{\u001b[39;49;00m\u001b[43mdata_id\u001b[49m\u001b[38;5;132;43;01m}\u001b[39;49;00m\u001b[38;5;124;43m_\u001b[39;49m\u001b[38;5;132;43;01m{\u001b[39;49;00m\u001b[43mmodel\u001b[49m\u001b[38;5;132;43;01m}\u001b[39;49;00m\u001b[38;5;124;43m.npy\u001b[39;49m\u001b[38;5;124;43m'\u001b[39;49m\u001b[43m)\u001b[49m\n\u001b[1;32m     25\u001b[0m         swe_preds[gcm_id, i, test_id, data_id]\u001b[38;5;241m.\u001b[39mvalues[mask] \u001b[38;5;241m=\u001b[39m preds\n",
      "File \u001b[0;32m~/.conda/envs/fos/lib/python3.11/site-packages/numpy/lib/npyio.py:405\u001b[0m, in \u001b[0;36mload\u001b[0;34m(file, mmap_mode, allow_pickle, fix_imports, encoding, max_header_size)\u001b[0m\n\u001b[1;32m    403\u001b[0m     own_fid \u001b[38;5;241m=\u001b[39m \u001b[38;5;28;01mFalse\u001b[39;00m\n\u001b[1;32m    404\u001b[0m \u001b[38;5;28;01melse\u001b[39;00m:\n\u001b[0;32m--> 405\u001b[0m     fid \u001b[38;5;241m=\u001b[39m stack\u001b[38;5;241m.\u001b[39menter_context(\u001b[38;5;28mopen\u001b[39m(os_fspath(file), \u001b[38;5;124m\"\u001b[39m\u001b[38;5;124mrb\u001b[39m\u001b[38;5;124m\"\u001b[39m))\n\u001b[1;32m    406\u001b[0m     own_fid \u001b[38;5;241m=\u001b[39m \u001b[38;5;28;01mTrue\u001b[39;00m\n\u001b[1;32m    408\u001b[0m \u001b[38;5;66;03m# Code to distinguish from NumPy binary files and pickles.\u001b[39;00m\n",
      "\u001b[0;31mFileNotFoundError\u001b[0m: [Errno 2] No such file or directory: 'Fig4_LR_SynthErr_preds_pillowse2_march5/29_Jordan_cnrm-esm2-1_r1i1p1f2_ssp370_2031_2_linreg.npy'"
     ]
    }
   ],
   "source": [
    "for i in range(2):\n",
    "    src_folder = folders[i]\n",
    "    model = models[i]\n",
    "    for basin_id in range(masks.basin.size):\n",
    "    # for basin_id in range(0,1):\n",
    "\n",
    "    ### Will loop over basin_id\n",
    "\n",
    "        basinname = masks.basin.values[basin_id]\n",
    "        basinmask = masks.basin_masks[basin_id]\n",
    "        mask = basinmask.data.astype(bool)\n",
    "\n",
    "        for gcm_id in range(9):\n",
    "    ### Will loop over gcm_id, this will be nested inside basin_id loop\n",
    "            gcm = gcm_variants[gcm_id]\n",
    "\n",
    "            for test_id in range(test_years.size):\n",
    "            ### Will loop over test_id, this will be nested inside gcm_id loop\n",
    "\n",
    "\n",
    "                for data_id, data_var in enumerate([Data_1, Data_2, Data_3, Data_4, Data_5]):\n",
    "\n",
    "                    preds = np.load(src_folder + f'{basin_id}_{basinname}_{gcm}_{test_years[test_id]}_{data_id}_{model}.npy')\n",
    "\n",
    "                    swe_preds[gcm_id, i, test_id, data_id].values[mask] = preds\n"
   ]
  },
  {
   "cell_type": "code",
   "execution_count": null,
   "id": "545722fd-0c02-437c-848f-5a9f9f0c6083",
   "metadata": {},
   "outputs": [],
   "source": [
    "## next make the error\n",
    "## method is different between the unet and lr/rf"
   ]
  },
  {
   "cell_type": "code",
   "execution_count": null,
   "id": "77075aa6-1bab-4a2e-b73c-33acbec4a013",
   "metadata": {
    "tags": []
   },
   "outputs": [],
   "source": [
    "\n",
    "pred_combo_list = ['Data_1', 'Data_2', 'Data_3', 'Data_4', 'Data_5']\n",
    "\n",
    "err_xr = xr.DataArray(np.zeros((masks.basin.size, 9, test_years.size, 3, 5, 2)), dims=['basin','gcm','test_year','model', 'pred_combo', 'metric'],\n",
    "            coords={'basin' : masks.basin.values, 'gcm':gcm_variants,  'test_year' : test_years, 'model':models,\n",
    "                    'pred_combo':pred_combo_list, 'metric':['rmse', 'r2']})\n"
   ]
  },
  {
   "cell_type": "code",
   "execution_count": null,
   "id": "b0dfd29f-6dc8-4d9f-8a12-91c107a07ebf",
   "metadata": {
    "tags": []
   },
   "outputs": [],
   "source": [
    "for basin_id in range(masks.basin.size):\n",
    "\n",
    "### Will loop over basin_id\n",
    "\n",
    "    basinname = masks.basin.values[basin_id]\n",
    "    basinmask = masks.basin_masks[basin_id]\n",
    "    mask = basinmask.data.astype(bool)\n",
    "    basin_imin, basin_imax, basin_jmin, basin_jmax = get_basin_rect(basin_id, update_shape=True)\n",
    "\n",
    "    lon_basin_box = (lon_wrf[basin_imin:basin_imax,basin_jmin:basin_jmax])\n",
    "    lat_basin_box = (lat_wrf[basin_imin:basin_imax,basin_jmin:basin_jmax])\n",
    "\n",
    "    lon_basin = lon_wrf.values[mask]\n",
    "    lat_basin = lat_wrf.values[mask]\n",
    "    ### Extract the basin from the bounding box\n",
    "    box_i = [i for i,item in enumerate(zip(lon_basin_box.values.flatten(), lat_basin_box.values.flatten())) if item in zip(lon_basin, lat_basin)]\n",
    "    \n",
    "    \n",
    "\n",
    "    ### Take subset of met and swe data here\n",
    "\n",
    "    swe_basin             = get_dataarray_basin (basin_id, sweBC)\n",
    "\n",
    "    for gcm_id in range(0,9):\n",
    "    ### Will loop over gcm_id, this will be nested inside basin_id loop\n",
    "        gcm = gcm_variants[gcm_id]\n",
    "        print (f\"Modeling {basin_id}_{basinname}_{gcm}\")\n",
    "        for test_id in range(test_years.size):\n",
    "\n",
    "        ### Will loop over test_id, this will be nested inside gcm_id loop\n",
    "            Test_SWE = get_dataarray_gcm_year (gcm_id, test_years[test_id], swe_basin).expand_dims(dim='channels', axis=-1)\n",
    "\n",
    "            # for data_id, data_var in enumerate([Data_2]):\n",
    "            for data_id, data_var in enumerate([Data_1, Data_2, Data_3, Data_4, Data_5]):\n",
    "\n",
    "                y_pred = np.load(src_folder + f'{basin_id}_{basinname}_{gcm}_{test_years[test_id]}_{data_id}_Unet.npy')\n",
    "                \n",
    "                err_xr.loc[dict(basin=basinname, gcm=gcm, test_year=test_years[test_id], \n",
    "                            model='Unet', pred_combo=pred_combo_list[data_id], metric='rmse')] = mean_squared_error(\n",
    "                                    Test_SWE[:,:,0].values.flatten()[box_i], y_pred.flatten()[box_i])**0.5\n",
    "                \n",
    "                err_xr.loc[dict(basin=basinname, gcm=gcm, test_year=test_years[test_id], \n",
    "                            model='Unet', pred_combo=pred_combo_list[data_id], metric='r2')] = r2_score(\n",
    "                                    Test_SWE[:,:,0].values.flatten()[box_i], y_pred.flatten()[box_i])\n"
   ]
  },
  {
   "cell_type": "code",
   "execution_count": null,
   "id": "f6aa9c13-f9c1-4fe8-b33f-dccb3c3060c4",
   "metadata": {
    "tags": []
   },
   "outputs": [],
   "source": []
  },
  {
   "cell_type": "code",
   "execution_count": null,
   "id": "033efcd1-7c06-4c00-ab46-ef767fc55442",
   "metadata": {
    "tags": []
   },
   "outputs": [],
   "source": [
    "%%time\n",
    "for model in models[0:2]:\n",
    "    for basin_id in range(masks.basin.size):\n",
    "\n",
    "        basinname = masks.basin.values[basin_id]\n",
    "        basinmask = masks.basin_masks[basin_id]\n",
    "        mask = basinmask.data.astype(bool)\n",
    "\n",
    "        for gcm_id in range(9):\n",
    "    ### Will loop over gcm_id, this will be nested inside basin_id loop\n",
    "            gcm = gcm_variants[gcm_id]\n",
    "\n",
    "            for test_id in range(test_years.size):\n",
    "                test_year = test_years[test_id]\n",
    "            ### Will loop over test_id, this will be nested inside gcm_id loop\n",
    "\n",
    "                for data_id, data_var in enumerate([Data_1, Data_2, Data_3, Data_4, Data_5]):\n",
    "                    # y_true = sweBC[gcm_id, test_id+20].values[mask] # possibly wrong test_id ? try selecting year instead \n",
    "                    y_true = sweBC.sel(gcm = gcm, time = test_year).values[mask]\n",
    "                    y_pred = swe_preds.sel(gcm = gcm, model = model, test_year = test_year, pred_combo = pred_combo_list[data_id]).values[mask]\n",
    "                    err_xr.loc[dict(basin=basinname, gcm=gcm, test_year=test_years[test_id], \n",
    "                                model=model, pred_combo=pred_combo_list[data_id], metric='rmse')] = mean_squared_error(y_true, y_pred)**0.5\n",
    "                    err_xr.loc[dict(basin=basinname, gcm=gcm, test_year=test_years[test_id], \n",
    "                                model=model, pred_combo=pred_combo_list[data_id], metric='r2')] = r2_score(y_true, y_pred)\n",
    "                    \n",
    "    \n",
    "                "
   ]
  },
  {
   "cell_type": "code",
   "execution_count": null,
   "id": "e6c226a7-d1fb-4b37-87a6-e67ad44f4fcc",
   "metadata": {
    "tags": []
   },
   "outputs": [],
   "source": []
  },
  {
   "cell_type": "code",
   "execution_count": null,
   "id": "ac6a6e64-2961-4017-9bcf-7a2b41ca0eaf",
   "metadata": {
    "tags": []
   },
   "outputs": [],
   "source": [
    "err_xr.to_netcdf(outputsdir + 'errors_allbasins.nc')"
   ]
  }
 ],
 "metadata": {
  "kernelspec": {
   "display_name": "fos",
   "language": "python",
   "name": "fos"
  },
  "language_info": {
   "codemirror_mode": {
    "name": "ipython",
    "version": 3
   },
   "file_extension": ".py",
   "mimetype": "text/x-python",
   "name": "python",
   "nbconvert_exporter": "python",
   "pygments_lexer": "ipython3",
   "version": "3.11.0"
  }
 },
 "nbformat": 4,
 "nbformat_minor": 5
}
