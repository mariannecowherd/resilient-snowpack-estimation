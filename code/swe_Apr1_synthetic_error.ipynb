{
 "cells": [
  {
   "cell_type": "code",
   "execution_count": 1,
   "id": "b3986254-9648-47f0-927e-fc3561979ea3",
   "metadata": {
    "tags": []
   },
   "outputs": [],
   "source": [
    "import pandas as pd\n",
    "import xarray as xr\n",
    "import datetime\n",
    "import os\n",
    "import numpy as np\n",
    "import matplotlib.pyplot as plt\n",
    "import time\n",
    "\n",
    "from dirs import coorddir, wrfdir, prepdir\n",
    "from myutils import metaread_veg"
   ]
  },
  {
   "cell_type": "code",
   "execution_count": 2,
   "id": "126ed17c-5060-41d7-b9e3-3eced4e5b235",
   "metadata": {
    "tags": []
   },
   "outputs": [],
   "source": [
    "domain = \"d02\"\n",
    "\n",
    "lat_wrf, lon_wrf, z_wrf, vgtyp_wrf, vegfra_wrf = metaread_veg(coorddir, domain)\n",
    "\n",
    "lat_wrf = xr.DataArray(lat_wrf, dims=[\"lat2d\", \"lon2d\"])\n",
    "lon_wrf = xr.DataArray(lon_wrf, dims=[\"lat2d\", \"lon2d\"])\n",
    "z_wrf = xr.DataArray(z_wrf, dims=[\"lat2d\", \"lon2d\"])\n",
    "vgtyp_wrf = xr.DataArray(vgtyp_wrf, dims=[\"lat2d\", \"lon2d\"]) \n",
    "vegfra_wrf = xr.DataArray(vegfra_wrf, dims=[\"lat2d\", \"lon2d\"])\n",
    "\n",
    "## Compute slope and aspect\n",
    "myslopx, myslopy = np.gradient(z_wrf, 9000)\n",
    "slope_wrf = np.degrees(np.arctan(np.sqrt(myslopx**2 + myslopy**2)))\n",
    "aspect_wrf = np.degrees(np.arctan2(-myslopy,myslopx))\n",
    "## Convert aspect to compass direction (clockwise from north)\n",
    "aspect_q2 = (aspect_wrf > 90) & (aspect_wrf <= 180) ## [90, 180]\n",
    "aspect_wrf = 90.0 - aspect_wrf\n",
    "aspect_wrf[aspect_q2] = 360.0 + aspect_wrf[aspect_q2]\n",
    "\n",
    "\n",
    "coords = {'lat': (['lat2d','lon2d'], lat_wrf), \\\n",
    "                 'lon': (['lat2d','lon2d'], lon_wrf) }\n",
    "\n",
    "gcms = ['cesm2','mpi-esm1-2-lr','cnrm-esm2-1',\n",
    "        'ec-earth3-veg','fgoals-g3','ukesm1-0-ll',\n",
    "        'canesm5','access-cm2','ec-earth3',]\n",
    "\n",
    "\n",
    "variants = ['r11i1p1f1','r7i1p1f1','r1i1p1f2',\n",
    "            'r1i1p1f1','r1i1p1f1','r2i1p1f2',\n",
    "            'r1i1p2f1','r5i1p1f1','r1i1p1f1',]\n",
    "   \n",
    "\n",
    "calendar = ['365_day','proleptic_gregorian','proleptic_gregorian',\n",
    "            'proleptic_gregorian','365_day','360_day',\n",
    "             '365_day','proleptic_gregorian', 'proleptic_gregorian',]\n",
    "\n",
    "\n",
    "ssps = ['ssp370','ssp370','ssp370','ssp370',\n",
    "        'ssp370','ssp370','ssp370','ssp370',\n",
    "        'ssp370']\n"
   ]
  },
  {
   "cell_type": "code",
   "execution_count": 15,
   "id": "965332eb-3235-42d1-a281-b7bbef925a34",
   "metadata": {
    "tags": []
   },
   "outputs": [],
   "source": [
    "sweBC = xr.open_dataarray('/global/cfs/cdirs/m4099/fate-of-snotel/wrfdata/snowmaxBC.nc')\n",
    "swe_apr1_corrupted = xr.zeros_like(sweBC)"
   ]
  },
  {
   "cell_type": "code",
   "execution_count": 4,
   "id": "1c70b4b3-dbd8-4a45-8cff-6c753932c4e0",
   "metadata": {
    "tags": []
   },
   "outputs": [],
   "source": [
    "def get_gcm_filepath (gcm_ind, var, year):\n",
    "    if year < 2014:\n",
    "        return f'{wrfdir}{gcms[gcm_ind]}_{variants[gcm_ind]}_historical_bc/postprocess/d02/' + f'{var}.daily.{gcms[gcm_ind]}_hist_BIAS_CORRECT_{variants[gcm_ind]}_d02_{str(year)}.nc'\n",
    "    else:\n",
    "        return f'{wrfdir}{gcms[gcm_ind]}_{variants[gcm_ind]}_ssp370_bc/postprocess/d02/' + f'{var}.daily.{gcms[gcm_ind]}_ssp370_BIAS_CORRECT_{variants[gcm_ind]}_d02_{str(year)}.nc'"
   ]
  },
  {
   "cell_type": "markdown",
   "id": "4e139b37-f64b-4a47-a442-4286df9643a9",
   "metadata": {
    "tags": []
   },
   "source": [
    "## Sample SWE data around Apr 1, with a standard deviation of 7 days."
   ]
  },
  {
   "cell_type": "code",
   "execution_count": 131,
   "id": "d4d99c3a-e95f-4801-9800-61938ec49005",
   "metadata": {
    "tags": []
   },
   "outputs": [
    {
     "name": "stdout",
     "output_type": "stream",
     "text": [
      "Time: 87.93744230270386 seconds\n"
     ]
    }
   ],
   "source": [
    "start = time.time()\n",
    "\n",
    "var_name='snow'\n",
    "for gcm_ind in range(9):\n",
    "    rng = np.random.default_rng(seed=0) ## This way, the offset days will be consistent across gcm's\n",
    "    gcm = f'{gcms[gcm_ind]}_{variants[gcm_ind]}_ssp370'\n",
    "    \n",
    "    for year in range(1980,2100):\n",
    "        fname = get_gcm_filepath(gcm_ind, var_name, year)\n",
    "        gcm_dataset = xr.open_dataarray(fname)\n",
    "        date_list = list(gcm_dataset.day.values.astype('int').astype('str'))\n",
    "        apr1_date = f'{year+1}0401'\n",
    "        offset_date = date_list[date_list.index(apr1_date) + int(np.around(rng.normal(0, 7)))]\n",
    "        \n",
    "        # offset_date = (pd.Timestamp(apr1_date) + pd.Timedelta(np.round(rng.normal(0, 7)), 'd')).strftime('%Y%m%d')\n",
    "        \n",
    "        swe_apr1_corrupted.loc[dict(gcm=gcm, time=year+1)] = gcm_dataset.sel(day=offset_date)\n",
    "\n",
    "end = time.time()\n",
    "print (f'Time: {end-start} seconds')\n",
    "\n",
    "swe_apr1_corrupted.to_netcdf(f'{prepdir}swe_apr1_SynthErr.nc')"
   ]
  }
 ],
 "metadata": {
  "kernelspec": {
   "display_name": "resilient-snowpack-estimation",
   "language": "python",
   "name": "resilient-snowpack-estimation"
  },
  "language_info": {
   "codemirror_mode": {
    "name": "ipython",
    "version": 3
   },
   "file_extension": ".py",
   "mimetype": "text/x-python",
   "name": "python",
   "nbconvert_exporter": "python",
   "pygments_lexer": "ipython3",
   "version": "3.11.0"
  }
 },
 "nbformat": 4,
 "nbformat_minor": 5
}
