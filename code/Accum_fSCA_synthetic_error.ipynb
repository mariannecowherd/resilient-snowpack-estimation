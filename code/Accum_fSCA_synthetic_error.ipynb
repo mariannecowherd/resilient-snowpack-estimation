{
 "cells": [
  {
   "attachments": {},
   "cell_type": "markdown",
   "id": "3c4bc301-4f58-4dcd-a972-86c400bda102",
   "metadata": {},
   "source": [
    "# Objective\n",
    "\n",
    "Create an average of cumulative fSCA (using the 40 mm daily threshold)."
   ]
  },
  {
   "cell_type": "code",
   "execution_count": 1,
   "id": "e218155b-2639-4164-9992-8d5a21431d95",
   "metadata": {},
   "outputs": [],
   "source": [
    "import pandas as pd\n",
    "import xarray as xr\n",
    "import datetime\n",
    "import os\n",
    "import numpy as np\n",
    "import matplotlib.pyplot as plt\n",
    "import time\n",
    "\n",
    "from myutils import metaread_veg \n",
    "from dirs import coorddir, prepdir"
   ]
  },
  {
   "cell_type": "code",
   "execution_count": 2,
   "id": "603340b6-d3fe-40e9-942f-8cf4a1eff52b",
   "metadata": {},
   "outputs": [],
   "source": [
    "\n",
    "domain = \"d02\"\n",
    "\n",
    "lat_wrf, lon_wrf, z_wrf, vgtyp_wrf, vegfra_wrf = metaread_veg(coorddir, domain)\n",
    "\n",
    "lat_wrf = xr.DataArray(lat_wrf, dims=[\"lat2d\", \"lon2d\"])\n",
    "lon_wrf = xr.DataArray(lon_wrf, dims=[\"lat2d\", \"lon2d\"])\n",
    "z_wrf = xr.DataArray(z_wrf, dims=[\"lat2d\", \"lon2d\"])\n",
    "vgtyp_wrf = xr.DataArray(vgtyp_wrf, dims=[\"lat2d\", \"lon2d\"]) \n",
    "vegfra_wrf = xr.DataArray(vegfra_wrf, dims=[\"lat2d\", \"lon2d\"])\n",
    "\n",
    "## Compute slope and aspect\n",
    "myslopx, myslopy = np.gradient(z_wrf, 9000)\n",
    "slope_wrf = np.degrees(np.arctan(np.sqrt(myslopx**2 + myslopy**2)))\n",
    "aspect_wrf = np.degrees(np.arctan2(-myslopy,myslopx))\n",
    "## Convert aspect to compass direction (clockwise from north)\n",
    "aspect_q2 = (aspect_wrf > 90) & (aspect_wrf <= 180) ## [90, 180]\n",
    "aspect_wrf = 90.0 - aspect_wrf\n",
    "aspect_wrf[aspect_q2] = 360.0 + aspect_wrf[aspect_q2]\n",
    "\n",
    "\n",
    "coords = {'lat': (['lat2d','lon2d'], lat_wrf), \\\n",
    "                 'lon': (['lat2d','lon2d'], lon_wrf) }\n",
    "\n",
    "gcms = ['cesm2','mpi-esm1-2-lr','cnrm-esm2-1',\n",
    "        'ec-earth3-veg','fgoals-g3','ukesm1-0-ll',\n",
    "        'canesm5','access-cm2','ec-earth3',]\n",
    "\n",
    "\n",
    "variants = ['r11i1p1f1','r7i1p1f1','r1i1p1f2',\n",
    "            'r1i1p1f1','r1i1p1f1','r2i1p1f2',\n",
    "            'r1i1p2f1','r5i1p1f1','r1i1p1f1',]\n",
    "   \n",
    "\n",
    "calendar = ['365_day','proleptic_gregorian','proleptic_gregorian',\n",
    "            'proleptic_gregorian','365_day','360_day',\n",
    "             '365_day','proleptic_gregorian', 'proleptic_gregorian',]\n",
    "\n",
    "\n",
    "ssps = ['ssp370','ssp370','ssp370','ssp370',\n",
    "        'ssp370','ssp370','ssp370','ssp370',\n",
    "        'ssp370']\n",
    "\n",
    "## Update these while running on nersc\n",
    "wrf_dir = '/global/cfs/cdirs/m4099/fate-of-snotel/wrfdata/'\n"
   ]
  },
  {
   "cell_type": "code",
   "execution_count": 3,
   "id": "d77c546e-1b0b-4bf6-9754-1688fba993cb",
   "metadata": {},
   "outputs": [],
   "source": [
    "sweBC = xr.open_dataarray('/global/cfs/cdirs/m4099/fate-of-snotel/wrfdata/snowmaxBC.nc')"
   ]
  },
  {
   "cell_type": "code",
   "execution_count": 4,
   "id": "b7679d83-bdc5-48c9-a68c-f306d29db629",
   "metadata": {},
   "outputs": [],
   "source": [
    "def get_gcm_filepath (gcm_ind, var, year):\n",
    "    if year < 2014:\n",
    "        return f'{wrf_dir}{gcms[gcm_ind]}_{variants[gcm_ind]}_historical_bc/postprocess/d02/' + f'{var}.daily.{gcms[gcm_ind]}_hist_BIAS_CORRECT_{variants[gcm_ind]}_d02_{str(year)}.nc'\n",
    "    else:\n",
    "        return f'{wrf_dir}{gcms[gcm_ind]}_{variants[gcm_ind]}_ssp370_bc/postprocess/d02/' + f'{var}.daily.{gcms[gcm_ind]}_ssp370_BIAS_CORRECT_{variants[gcm_ind]}_d02_{str(year)}.nc'"
   ]
  },
  {
   "cell_type": "code",
   "execution_count": 5,
   "id": "7fda5085-5aa4-4927-8331-0ead476d6301",
   "metadata": {},
   "outputs": [],
   "source": [
    "def get_date_list (gcm_ind, year):\n",
    "    start_date = f'{year}1001'\n",
    "    end_date = f'{year+1}0401'\n",
    "\n",
    "    date_range = pd.date_range(start=start_date, end=end_date).strftime('%Y%m%d')\n",
    "    date_list = list(date_range)\n",
    "\n",
    "    if calendar[gcm_ind] == '365_day':\n",
    "        ## remove Feb-29 for leap year\n",
    "        if ((year+1) % 4 == 0) & ((year+1) != 2100):\n",
    "            date_list.remove(f'{year+1}0229')\n",
    "    elif calendar[gcm_ind] == '360_day':\n",
    "        date_list.remove(f'{year}1031')\n",
    "        date_list.remove(f'{year}1231')\n",
    "        date_list.remove(f'{year+1}0131')\n",
    "        date_list.remove(f'{year+1}0331')\n",
    "        date_list.append(f'{year+1}0230')\n",
    "        if ((year+1) % 4 > 0) | ((year+1) == 2100):\n",
    "            date_list.append(f'{year+1}0229')\n",
    "        date_list.sort()\n",
    "    return date_list"
   ]
  },
  {
   "cell_type": "code",
   "execution_count": 6,
   "id": "5c479148-3c81-4a77-b0e2-b263b2947623",
   "metadata": {},
   "outputs": [],
   "source": [
    "def get_gcm_metvar (gcm_ind, year, date_list):\n",
    "    \n",
    "    var_name='snow'\n",
    "    fname = get_gcm_filepath(gcm_ind, var_name, year)\n",
    "    gcm_dataset = xr.open_dataset(fname)\n",
    "\n",
    "    mean_fSCA = (gcm_dataset.sel(day=date_list)['snow'] > 40.0).mean(dim='day')\n",
    "    return mean_fSCA"
   ]
  },
  {
   "cell_type": "code",
   "execution_count": 32,
   "id": "f838ce3f-4268-4f32-8517-af11a725fcea",
   "metadata": {},
   "outputs": [],
   "source": [
    "mean_fSCA_all = xr.zeros_like(sweBC)"
   ]
  },
  {
   "cell_type": "code",
   "execution_count": 36,
   "id": "08dd3e8b-0452-4bad-9263-7c137e721bba",
   "metadata": {},
   "outputs": [
    {
     "name": "stdout",
     "output_type": "stream",
     "text": [
      "Time: 345.32724356651306 seconds\n"
     ]
    }
   ],
   "source": [
    "start = time.time()\n",
    "\n",
    "for gcm_ind in range(9):\n",
    "    gcm = f'{gcms[gcm_ind]}_{variants[gcm_ind]}_ssp370'\n",
    "    \n",
    "    for year in range(1980,2100):\n",
    "\n",
    "        date_list = get_date_list(gcm_ind, year)\n",
    "        mean_fSCA = get_gcm_metvar (gcm_ind, year, date_list)\n",
    "\n",
    "        mean_fSCA_all.loc[dict(gcm=gcm, time=year+1)] = mean_fSCA\n",
    "\n",
    "end = time.time()\n",
    "print (f'Time: {end-start} seconds')\n",
    "\n",
    "mean_fSCA_all.attrs['long_name'] = 'cum. fSCA'\n",
    "mean_fSCA_all.attrs['units'] = 'fraction (dimensionless)'\n",
    "mean_fSCA_all.to_netcdf(f'{prepdir}/mean_fSCABC.nc')"
   ]
  },
  {
   "attachments": {},
   "cell_type": "markdown",
   "id": "b2438f02-5f75-426a-8081-b3a21f15f592",
   "metadata": {},
   "source": [
    "# Corrupt fSCA using synthetic error"
   ]
  },
  {
   "cell_type": "code",
   "execution_count": 8,
   "id": "049c074e-b9dd-4c58-b345-5d47c972014a",
   "metadata": {
    "tags": []
   },
   "outputs": [],
   "source": [
    "mean_fSCA_all_corrupted = xr.zeros_like(sweBC)\n",
    "mean_fSCA_all_corrupted.attrs['long_name'] = 'cum. fSCA (corrupted)'\n",
    "mean_fSCA_all_corrupted.attrs['units'] = 'fraction (dimensionless)'"
   ]
  },
  {
   "cell_type": "code",
   "execution_count": 10,
   "id": "3a544dab-0470-433d-acca-46adc8acf80f",
   "metadata": {
    "tags": []
   },
   "outputs": [
    {
     "name": "stdout",
     "output_type": "stream",
     "text": [
      "Time: 735.0030565261841 seconds\n"
     ]
    }
   ],
   "source": [
    "start = time.time()\n",
    "\n",
    "\n",
    "var_name='snow'\n",
    "for gcm_ind in range(9):\n",
    "    gcm = f'{gcms[gcm_ind]}_{variants[gcm_ind]}_ssp370'\n",
    "    rng = np.random.default_rng(seed=0) ## This way, the masked days will be consistent across gcm's\n",
    "\n",
    "    for year in range(1980,2100):\n",
    "        date_list = get_date_list(gcm_ind, year)\n",
    "        fname = get_gcm_filepath(gcm_ind, var_name, year)\n",
    "        gcm_dataset = xr.open_dataset(fname)\n",
    "        \n",
    "        this_swe_clean = gcm_dataset.sel(day=date_list)['snow']\n",
    "        \n",
    "        ## Obtain a realization of the mask for all dates, across all pixels\n",
    "        cloud_mask = rng.binomial(1, 2/3, (len(date_list), *lon_wrf.shape))\n",
    "        this_swe_masked = this_swe_clean.where(cloud_mask)\n",
    "        this_swe_masked[0] = this_swe_masked[0].fillna(0)\n",
    "        this_swe_masked = this_swe_masked.ffill(dim='day')\n",
    "        this_fSCA_corrupted = (this_swe_masked > 40.0).mean(dim='day')\n",
    "        mean_fSCA_all_corrupted.loc[dict(gcm=gcm, time=year+1)] = this_fSCA_corrupted\n",
    "            \n",
    "end = time.time()\n",
    "print (f'Time: {end-start} seconds')     \n",
    "mean_fSCA_all_corrupted.to_netcdf(f'{prepdir}/mean_fSCABC_SynthErr.nc')"
   ]
  },
  {
   "cell_type": "code",
   "execution_count": null,
   "id": "95d308dc-e2c6-4a8d-b077-fd0ee3adeebf",
   "metadata": {},
   "outputs": [],
   "source": []
  },
  {
   "cell_type": "code",
   "execution_count": null,
   "id": "370895a3-6b40-4d9a-9f82-6e32a6f44925",
   "metadata": {},
   "outputs": [],
   "source": []
  }
 ],
 "metadata": {
  "kernelspec": {
   "display_name": "UmitalEnv",
   "language": "python",
   "name": "myenv"
  },
  "language_info": {
   "codemirror_mode": {
    "name": "ipython",
    "version": 3
   },
   "file_extension": ".py",
   "mimetype": "text/x-python",
   "name": "python",
   "nbconvert_exporter": "python",
   "pygments_lexer": "ipython3",
   "version": "3.8.16"
  }
 },
 "nbformat": 4,
 "nbformat_minor": 5
}
