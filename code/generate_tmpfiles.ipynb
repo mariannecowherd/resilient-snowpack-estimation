{
 "cells": [
  {
   "cell_type": "code",
   "execution_count": 1,
   "id": "62eda261-5604-4602-a26b-9e900829449e",
   "metadata": {
    "tags": []
   },
   "outputs": [
    {
     "name": "stderr",
     "output_type": "stream",
     "text": [
      "/global/homes/c/cowherd/.conda/envs/fos/lib/python3.11/site-packages/pyproj/__init__.py:89: UserWarning: pyproj unable to set database path.\n",
      "  _pyproj_global_context_initialize()\n"
     ]
    }
   ],
   "source": [
    "import datetime\n",
    "import os\n",
    "import pandas as pd\n",
    "import xarray as xr\n",
    "import numpy as np\n",
    "import geopandas as gpd\n",
    "import glob \n",
    "import gc\n",
    "import dask\n",
    "\n",
    "##\n",
    "## set the directories in which your copies of the data are in the dirs.py file\n",
    "from dirs import wrfdir, basedir, coorddir, snoteldir\n",
    "from myutils import wrfread, metaread\n",
    "savedir = f'{basedir}/data/tmp/'\n"
   ]
  },
  {
   "cell_type": "markdown",
   "id": "879eeb2c-535b-4ffd-b743-54443e55de64",
   "metadata": {},
   "source": [
    "we want to create some data files that contain pre-computed values from the downcsaled GCM outputs you can save these in a tmp folder while working on the project -- they are much smaller than the full  dataset but are directly repetitive\n",
    "\n",
    "1. snowMax.nc \n",
    "2. allcorrs.npy\n",
    "\n",
    "\n"
   ]
  },
  {
   "cell_type": "code",
   "execution_count": null,
   "id": "ace48b87-8f06-4dbf-8fdd-2150cf69f268",
   "metadata": {},
   "outputs": [],
   "source": [
    "%%time\n",
    "\n",
    "## based on code from Stefan Rahimi\n",
    "date_start_hist, date_end_hist = \"1980-09-01\", \"2014-08-31\"\n",
    "date_start_ssp, date_end_ssp = \"2014-09-01\", \"2100-08-31\"\n",
    "\n",
    "domain = \"d02\"\n",
    "lat1, lon1, z1, file = metaread(coorddir,domain)\n",
    "coords2 = xr.open_dataset(file)\n",
    "lon_wrf = lon1[0,:,:]\n",
    "lat_wrf = lat1[0,:,:]\n",
    "z_wrf = z1[0,:,:]\n",
    "lat_wrf = xr.DataArray(lat_wrf, dims=[\"lat2d\", \"lon2d\"])\n",
    "lon_wrf = xr.DataArray(lon_wrf, dims=[\"lat2d\", \"lon2d\"])\n",
    "z_wrf = xr.DataArray(z_wrf, dims=[\"lat2d\", \"lon2d\"])\n",
    "\n",
    "coords = {'lat': (['lat2d','lon2d'], lat_wrf), \\\n",
    "                 'lon': (['lat2d','lon2d'], lon_wrf) }\n",
    "\n",
    "gcms = ['cesm2','mpi-esm1-2-lr','cnrm-esm2-1',\n",
    "        'ec-earth3-veg','fgoals-g3','ukesm1-0-ll',\n",
    "        'canesm5','access-cm2','ec-earth3']\n",
    "\n",
    "variants = ['r11i1p1f1','r7i1p1f1','r1i1p1f2',\n",
    "            'r1i1p1f1','r1i1p1f1','r2i1p1f2',\n",
    "            'r1i1p2f1','r5i1p1f1','r1i1p1f1',\n",
    "            ]\n",
    "\n",
    "calendar = ['365_day','proleptic_gregorian','proleptic_gregorian',\n",
    "            'proleptic_gregorian','365_day','360_day',\n",
    "             '365_day','proleptic_gregorian','proleptic_gregorian',\n",
    "            ]\n",
    "\n",
    "ssps = ['ssp370','ssp370','ssp370','ssp370',\n",
    "        'ssp370','ssp370','ssp370','ssp370',\n",
    "        'ssp370','ssp370','ssp370','ssp370',\n",
    "        ]\n",
    "\n",
    "print (len(ssps),len(calendar),len(variants),len(gcms))\n",
    "\n",
    "\n",
    "snow_BC = {}\n",
    "snowMax = []\n",
    "\n",
    "keys = []\n",
    "\n",
    "for count, igcm in enumerate(gcms):\n",
    "    \n",
    "    condition = ()\n",
    "    \n",
    "    bc = True\n",
    "    var = 'snow'\n",
    "    key = '%s_%s_%s' %(igcm,variants[count],ssps[count])\n",
    "    var = _read_merge(wrfdir,domain,var,\n",
    "                                        igcm,variants[count], \\\n",
    "                                        date_start_hist,date_start_ssp, \\\n",
    "                                        date_end_hist,date_end_ssp,ssps[count],bc,\n",
    "            calendar[count])\n",
    "    \n",
    "    snow_BC[key] = var\n",
    "    \n",
    "    var_x = var.groupby(var.time.dt.year).max()\n",
    "    snowMax.append(var_x)\n",
    "\n",
    "    \n",
    "snowMax = xr.concat(snowMax,dim='gcm')\n",
    "snowMax.to_netcdf(f'{savedir}snowMax.nc')\n",
    "gc.collect()"
   ]
  },
  {
   "cell_type": "code",
   "execution_count": null,
   "id": "ea45523e-20b1-4508-85df-2678dabd54ae",
   "metadata": {},
   "outputs": [],
   "source": []
  }
 ],
 "metadata": {
  "kernelspec": {
   "display_name": "fos",
   "language": "python",
   "name": "fos"
  },
  "language_info": {
   "codemirror_mode": {
    "name": "ipython",
    "version": 3
   },
   "file_extension": ".py",
   "mimetype": "text/x-python",
   "name": "python",
   "nbconvert_exporter": "python",
   "pygments_lexer": "ipython3",
   "version": "3.11.0"
  }
 },
 "nbformat": 4,
 "nbformat_minor": 5
}
