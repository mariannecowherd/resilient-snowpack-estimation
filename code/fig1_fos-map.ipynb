{
 "cells": [
  {
   "cell_type": "code",
   "execution_count": 1,
   "id": "4b2c43bd-2af4-487e-8d77-1cd6183ceab9",
   "metadata": {
    "tags": []
   },
   "outputs": [
    {
     "name": "stderr",
     "output_type": "stream",
     "text": [
      "/global/homes/c/cowherd/.conda/envs/fos/lib/python3.11/site-packages/pyproj/__init__.py:89: UserWarning: pyproj unable to set database path.\n",
      "  _pyproj_global_context_initialize()\n"
     ]
    }
   ],
   "source": [
    "import datetime\n",
    "import os\n",
    "import pandas as pd\n",
    "import xarray as xr\n",
    "import numpy as np\n",
    "import geopandas as gpd\n",
    "import glob \n",
    "import gc\n",
    "##plotting\n",
    "import matplotlib as mpl\n",
    "import matplotlib.pyplot as plt \n",
    "from matplotlib import cm\n",
    "from matplotlib.gridspec import GridSpec\n",
    "from matplotlib import colors\n",
    "import cmcrameri.cm as ccm\n",
    "##\n",
    "## set the directories in which your copies of the data are in the dirs.py file\n",
    "from dirs import wrfdir, basedir, coorddir, snoteldir\n"
   ]
  },
  {
   "cell_type": "code",
   "execution_count": 2,
   "id": "e5caaf37-5bc7-4491-8181-bb6710b85625",
   "metadata": {
    "tags": []
   },
   "outputs": [],
   "source": [
    "# make a nice snotel metadata geodataframe\n",
    "snotelmeta = pd.read_csv(snoteldir + 'snotelmeta.csv')\n",
    "\n",
    "snotel_gdf = gpd.GeoDataFrame(data = {'site_name':snotelmeta.site_name,\n",
    "                                     'elev': snotelmeta.elev,\n",
    "                                     'site_number':snotelmeta.site_number,\n",
    "                                     'state':snotelmeta.state,\n",
    "                                     'namestr':snotelmeta.namestr,\n",
    "                                     'startdt':snotelmeta.startdt}, geometry = gpd.points_from_xy(snotelmeta.lon, snotelmeta.lat))\n",
    "snotel_no_ak = snotel_gdf[snotel_gdf.state != \"AK\"]\n"
   ]
  },
  {
   "cell_type": "code",
   "execution_count": 3,
   "id": "1595e3b2-f256-420e-b857-4657b39717f3",
   "metadata": {
    "tags": []
   },
   "outputs": [
    {
     "name": "stderr",
     "output_type": "stream",
     "text": [
      "/tmp/ipykernel_617493/3934682290.py:2: FutureWarning: The geopandas.dataset module is deprecated and will be removed in GeoPandas 1.0. You can get the original 'naturalearth_lowres' data from https://www.naturalearthdata.com/downloads/110m-cultural-vectors/.\n",
      "  world = gpd.read_file(gpd.datasets.get_path('naturalearth_lowres'))\n"
     ]
    }
   ],
   "source": [
    "plt.style.use('style.mplstyle')\n",
    "world = gpd.read_file(gpd.datasets.get_path('naturalearth_lowres'))\n",
    "huc2 = gpd.read_file(f'{basedir}data/huc2.shp')\n",
    "coords = xr.open_dataset(f'{coorddir}wrfinput_d02')\n",
    "states = gpd.read_file(f'{basedir}data/cb_2018_us_state_5m.shp')\n",
    "## switch to sans serif fonts\n",
    "plt.rcParams['font.family'] = 'sans-serif'\n"
   ]
  },
  {
   "cell_type": "code",
   "execution_count": 4,
   "id": "f188ee27-109f-4061-99d2-97070a290bb3",
   "metadata": {
    "tags": []
   },
   "outputs": [],
   "source": [
    "maxdir = '/global/cfs/cdirs/m4099/fate-of-snotel/fos-marianne/nbs/ucla/'\n",
    "maxfiles = glob.glob(maxdir + 'max_values_*.nc')\n",
    "data = xr.open_mfdataset(maxfiles, combine = 'nested', concat_dim = 'year')"
   ]
  },
  {
   "cell_type": "code",
   "execution_count": 6,
   "id": "f6b5efca-7051-4d84-875c-93f27ea884c9",
   "metadata": {
    "tags": []
   },
   "outputs": [
    {
     "data": {
      "image/png": "[encoded data removed]",
      "text/plain": [
       "<Figure size 900x700 with 1 Axes>"
      ]
     },
     "metadata": {},
     "output_type": "display_data"
    }
   ],
   "source": [
    "pixel_size_deg = 0.004444\n",
    "lat = data.lat\n",
    "pixel_areas_deg2 = np.cos(np.radians(lat)) * pixel_size_deg**2\n",
    "Y,X = np.meshgrid(data.lat, data.lon)\n",
    "num_repetitions = 5175\n",
    "areas_arr = np.tile(pixel_areas_deg2, (num_repetitions, 1))\n",
    "plt.pcolormesh(X,Y,areas_arr)\n",
    "plt.xlabel('Longitude')\n",
    "plt.ylabel('Latitude')\n",
    "earth_radius_meters = 6.371e6\n",
    "pixel_areas_meters2 = pixel_areas_deg2 * (earth_radius_meters**2)\n"
   ]
  },
  {
   "cell_type": "code",
   "execution_count": 8,
   "id": "bc537172-4a06-4018-a294-a6f3de2fb56a",
   "metadata": {
    "tags": []
   },
   "outputs": [],
   "source": [
    "ts_snowy = []\n",
    "ts_land = []\n",
    "ts_snotel = []\n",
    "ts_land_sd = []\n",
    "ts_snowy_sd = []\n",
    "years = []\n",
    "maskfile = xr.open_dataset(maxfiles[0])\n",
    "mask = maskfile.maxSWE > 0.1\n",
    "\n",
    "for fn in maxfiles:\n",
    "    data = xr.open_dataset(fn)\n",
    "    area_weighted = data.maxSWE * areas_arr / np.mean(areas_arr[0])\n",
    "    snow_only = area_weighted.where(mask)\n",
    "    ts_snowy.append(np.nanmean(snow_only))\n",
    "    ts_land.append(np.nanmean(area_weighted))\n",
    "    ts_snowy_sd.append(np.nanstd(snow_only))\n",
    "    ts_land_sd.append(np.nanstd(area_weighted))\n",
    "    gc.collect()\n",
    "    '''\n",
    "    snow_only = data.maxSWE.where(mask)\n",
    "    ts_snowy.append(np.nanmean(snow_only))\n",
    "    ts_land.append(np.nanmean(data.maxSWE))\n",
    "    ts_snowy_sd.append(np.nanstd(snow_only))\n",
    "    ts_land_sd.append(np.nanstd(data.maxSWE))\n",
    "    '''\n",
    "    years.append(int(fn.split('_values_')[-1][0:4]))\n",
    "data = {'ts_snowy': ts_snowy, 'ts_land': ts_land}\n",
    "ucladf = pd.DataFrame(data, index=years)\n",
    "ucladf.sort_index(inplace=True)"
   ]
  },
  {
   "cell_type": "code",
   "execution_count": 10,
   "id": "0d5e05a0-0cfb-488b-9caa-5ab0db418b9d",
   "metadata": {
    "tags": []
   },
   "outputs": [],
   "source": [
    "## load snotel locations from Fang paper\n",
    "import scipy.io\n",
    "mat_data_best = scipy.io.loadmat(f'{basedir}data/SNOTEL_SWE_peak_reanalysis_best_match.mat')\n",
    "ucla_snotel_m = mat_data_best['Peak_SWE_re_post'] * 1000\n",
    "ucla_snotel_m_ts = np.nanmean(ucla_snotel_m,axis=0)\n",
    "ucla_years = range(1985,2022)"
   ]
  },
  {
   "cell_type": "code",
   "execution_count": 12,
   "id": "b857067b-fd83-4b1d-bc9a-9c33985457be",
   "metadata": {
    "tags": []
   },
   "outputs": [
    {
     "ename": "FileNotFoundError",
     "evalue": "[Errno 2] No such file or directory: 'model_ts.npy'",
     "output_type": "error",
     "traceback": [
      "\u001b[0;31m---------------------------------------------------------------------------\u001b[0m",
      "\u001b[0;31mFileNotFoundError\u001b[0m                         Traceback (most recent call last)",
      "Cell \u001b[0;32mIn[12], line 2\u001b[0m\n\u001b[1;32m      1\u001b[0m mapvalues \u001b[38;5;241m=\u001b[39m np\u001b[38;5;241m.\u001b[39mload(\u001b[38;5;124mf\u001b[39m\u001b[38;5;124m'\u001b[39m\u001b[38;5;132;01m{\u001b[39;00mbasedir\u001b[38;5;132;01m}\u001b[39;00m\u001b[38;5;124mdata/wrfmaps.npy\u001b[39m\u001b[38;5;124m'\u001b[39m, allow_pickle \u001b[38;5;241m=\u001b[39m \u001b[38;5;124m'\u001b[39m\u001b[38;5;124mTrue\u001b[39m\u001b[38;5;124m'\u001b[39m)\u001b[38;5;241m.\u001b[39mflatten()[\u001b[38;5;241m0\u001b[39m]\n\u001b[0;32m----> 2\u001b[0m ts \u001b[38;5;241m=\u001b[39m \u001b[43mnp\u001b[49m\u001b[38;5;241;43m.\u001b[39;49m\u001b[43mload\u001b[49m\u001b[43m(\u001b[49m\u001b[38;5;124;43m'\u001b[39;49m\u001b[38;5;124;43mmodel_ts.npy\u001b[39;49m\u001b[38;5;124;43m'\u001b[39;49m\u001b[43m,\u001b[49m\u001b[43m \u001b[49m\u001b[43mallow_pickle\u001b[49m\u001b[43m \u001b[49m\u001b[38;5;241;43m=\u001b[39;49m\u001b[43m \u001b[49m\u001b[38;5;28;43;01mTrue\u001b[39;49;00m\u001b[43m)\u001b[49m\u001b[38;5;241m.\u001b[39mflatten()[\u001b[38;5;241m0\u001b[39m]\n\u001b[1;32m      3\u001b[0m landmask0 \u001b[38;5;241m=\u001b[39m coords[\u001b[38;5;124m'\u001b[39m\u001b[38;5;124mLANDMASK\u001b[39m\u001b[38;5;124m'\u001b[39m][\u001b[38;5;241m0\u001b[39m] \u001b[38;5;241m>\u001b[39m \u001b[38;5;241m0\u001b[39m\n\u001b[1;32m      4\u001b[0m landmask1 \u001b[38;5;241m=\u001b[39m coords[\u001b[38;5;124m'\u001b[39m\u001b[38;5;124mHGT\u001b[39m\u001b[38;5;124m'\u001b[39m][\u001b[38;5;241m0\u001b[39m] \u001b[38;5;241m>\u001b[39m \u001b[38;5;241m10\u001b[39m\n",
      "File \u001b[0;32m~/.conda/envs/fos/lib/python3.11/site-packages/numpy/lib/npyio.py:405\u001b[0m, in \u001b[0;36mload\u001b[0;34m(file, mmap_mode, allow_pickle, fix_imports, encoding, max_header_size)\u001b[0m\n\u001b[1;32m    403\u001b[0m     own_fid \u001b[38;5;241m=\u001b[39m \u001b[38;5;28;01mFalse\u001b[39;00m\n\u001b[1;32m    404\u001b[0m \u001b[38;5;28;01melse\u001b[39;00m:\n\u001b[0;32m--> 405\u001b[0m     fid \u001b[38;5;241m=\u001b[39m stack\u001b[38;5;241m.\u001b[39menter_context(\u001b[38;5;28;43mopen\u001b[39;49m\u001b[43m(\u001b[49m\u001b[43mos_fspath\u001b[49m\u001b[43m(\u001b[49m\u001b[43mfile\u001b[49m\u001b[43m)\u001b[49m\u001b[43m,\u001b[49m\u001b[43m \u001b[49m\u001b[38;5;124;43m\"\u001b[39;49m\u001b[38;5;124;43mrb\u001b[39;49m\u001b[38;5;124;43m\"\u001b[39;49m\u001b[43m)\u001b[49m)\n\u001b[1;32m    406\u001b[0m     own_fid \u001b[38;5;241m=\u001b[39m \u001b[38;5;28;01mTrue\u001b[39;00m\n\u001b[1;32m    408\u001b[0m \u001b[38;5;66;03m# Code to distinguish from NumPy binary files and pickles.\u001b[39;00m\n",
      "\u001b[0;31mFileNotFoundError\u001b[0m: [Errno 2] No such file or directory: 'model_ts.npy'"
     ]
    }
   ],
   "source": [
    "mapvalues = np.load(f'{basedir}data/wrfmaps.npy', allow_pickle = 'True').flatten()[0]\n",
    "ts = np.load(f'{basedir}data/model_ts.npy', allow_pickle = True).flatten()[0]\n",
    "landmask0 = coords['LANDMASK'][0] > 0\n",
    "landmask1 = coords['HGT'][0] > 10\n",
    "landmask2 = landmask1 | landmask0"
   ]
  },
  {
   "cell_type": "code",
   "execution_count": null,
   "id": "809d789e-1e68-43cd-b93e-913c53dffee7",
   "metadata": {
    "tags": []
   },
   "outputs": [],
   "source": [
    "LETTERLABELS = True\n",
    "def label_axis(axis, letter):\n",
    "    axis.text(.01, .99, letter, ha='left', va='top', transform=axis.transAxes, fontsize = 25)\n",
    "    return\n",
    "    \n",
    "from mpl_toolkits.axes_grid1.inset_locator import inset_axes\n",
    "\n",
    "fig = plt.figure(figsize=(28, 13))\n",
    "gs = GridSpec(3, 3, figure=fig, width_ratios=[2,.1, 1])\n",
    "\n",
    "ax_large = fig.add_subplot(gs[:, 0])\n",
    "\n",
    "# Smaller subplots stacked on the right\n",
    "axs_small = [fig.add_subplot(gs[i, j]) for i in range(3) for j in range(2, 3)]\n",
    "\n",
    "\n",
    "''' colors\n",
    "'''\n",
    "categories = ['land', 'landsnow', 'snotel']\n",
    "types = ['snow', 'prec', 't2']\n",
    "#catcolors = ['black','#DA7800','#0000FF']\n",
    "catcolors = ['black','firebrick','#0000FF']\n",
    "\n",
    "# DA7800, c1272d\n",
    "# values, colormap, index, vmin, vmax, label, ts) \n",
    "data = {'swe': [mapvalues['snow'], cm.Blues, 0, 10, 640, r'SWE [mm]'],\n",
    "        'prec': [mapvalues['prec'], cm.BuGn, 1, 400, 1275,r'Precipitation [mm yr$^{-1}$]'],\n",
    "        't2': [mapvalues['t2'], cm.Purples, 2, 1500,7000,r'Positive degree days [K day yr$^{-1}$]'],\n",
    "       }\n",
    "plotranges =  {'swe': [-10, 750],\n",
    "        'prec':[380, 1350],\n",
    "        't2': [1400,7100],\n",
    "       }\n",
    "basincolor = 'darkblue'\n",
    "sncolor='k'\n",
    "cmap = mpl.cm.gist_earth\n",
    "#cmap = ccm.oleron\n",
    "#cmap = ccm.bamako\n",
    "#cmap = mpl.cm.Greys\n",
    "#new_cmap = cmap(np.arange(cmap.N))\n",
    "new_cmap = cmap(np.arange(80,cmap.N))\n",
    "#vmin = 10\n",
    "#vmax = 3000\n",
    "#thresh = 0\n",
    "\n",
    "#thresh_idx = int((thresh - vmin) / (vmax - vmin) * cmap.N)\n",
    "#new_cmap[:thresh_idx, :] = 1.0  # RGB values for white\n",
    "new_cmap = colors.ListedColormap(new_cmap)\n",
    "'''\n",
    "end colors\n",
    "'''\n",
    "\n",
    "basinlabels = [[-120,49.3,'Pacific Northwest'],\n",
    "                [-110,41.2,'Upper\\nColorado'],\n",
    "               [-115,36,'Lower Colorado'],\n",
    "               [-119,38.5,'Great Basin'],\n",
    "               [-124,41,'California'],\n",
    "               [-112,47.5,'Missouri']]\n",
    "               \n",
    "cb = ax_large.pcolormesh(coords['XLONG'][0], coords['XLAT'][0], coords['HGT'][0].where(landmask2), cmap = new_cmap, vmin = 0, vmax = 3700)\n",
    "cbar = plt.colorbar(cb, ax =ax_large, orientation = 'horizontal', fraction=0.046, pad=0.05, extend = 'max')\n",
    "cbar.set_label('Elevation [m]')\n",
    "\n",
    "\n",
    "world.boundary.plot(ax=ax_large, linewidth =1, color = 'gray', alpha = 0.7, linestyle = '--')\n",
    "huc2.boundary.plot(ax=ax_large, linewidth = 2, color = basincolor, label = 'Basin boundary', zorder =3 )\n",
    "snotel_no_ak.plot(ax=ax_large, marker = '+', markersize = 100, color = sncolor, label = 'SNOTEL station', zorder = 4)\n",
    "states.boundary.plot(ax=ax_large, linewidth =1, color = 'white', alpha = 1, linestyle = '--')\n",
    "\n",
    "for entry in basinlabels:\n",
    "    ax_large.text(entry[0], entry[1], entry[2], fontsize=18, color = basincolor)\n",
    "    \n",
    "x1, x2, y1, y2 = -110, -105, 36 ,40\n",
    "j = 0\n",
    "if LETTERLABELS: label_axis(ax_large, 'a')\n",
    "for key, info in data.items():\n",
    "    dataset = info[0]\n",
    "    cmap = info[1]\n",
    "    idx = info[2]\n",
    "    vmin = info[3]\n",
    "    vmax = info[4]\n",
    "    label = info[5]\n",
    "    # Calculate inset axes position based on idx\n",
    "\n",
    "    axins = ax_large.inset_axes([1.04, 0.67 - 0.39 * idx, 0.33, 0.33])\n",
    "    cb = axins.pcolormesh(coords['XLONG'][0], coords['XLAT'][0], dataset, cmap = cmap, vmin = vmin, vmax = vmax)\n",
    "    snotel_no_ak.plot(ax=axins, marker = '+',color = sncolor)\n",
    "    axins.set_xlim(x1, x2)\n",
    "    axins.set_ylim(y1, y2)\n",
    "    if LETTERLABELS: label_axis(axins, chr(ord('`') + j + 2))\n",
    "\n",
    "    states.boundary.plot(ax=axins, linewidth =1, color = 'white', alpha = 1, linestyle = '--')\n",
    "    huc2.boundary.plot(ax=axins, linewidth = 2, color = basincolor, zorder =3 )\n",
    "\n",
    "\n",
    "    cax = axins.inset_axes([1.05, 0, 0.06, 1])        \n",
    "    cbar = plt.colorbar(cb, cax=cax, pad=0.1, orientation='vertical',\n",
    "                         extend='both', label = label)\n",
    "    cbar.set_ticklabels([])\n",
    "\n",
    "     \n",
    "    a,b = ax_large.indicate_inset_zoom(axins, edgecolor=\"black\")  \n",
    "    for line in b:\n",
    "        line.set(visible = False)\n",
    "    if idx == 0:\n",
    "        b[1].set(visible = True)\n",
    "    if idx == 2:\n",
    "        b[0].set(visible = True)\n",
    "    \n",
    "    years = range(1981, 2100)\n",
    "    \n",
    "    if key == 'swe': tskey = 'snow'\n",
    "    else: tskey = key\n",
    "    \n",
    "    \n",
    "    for category, color in zip(categories, catcolors):\n",
    "        if category == 'land': catlabel = 'land'\n",
    "        elif category == 'landsnow': catlabel = 'snowy'\n",
    "        elif category == 'snotel': catlabel = 'SNOTEL'\n",
    "        time_series = ts[category][tskey]\n",
    "        mean = np.mean(time_series, axis=0)[1:-1]\n",
    "        std = np.std(time_series, axis=0)[1:-1]\n",
    "        axs_small[j].fill_between(years, mean - std, mean + std, color=color, alpha=0.3)\n",
    "        axs_small[j].plot(years,mean, color=color, label=catlabel)\n",
    "        axs_small[j].yaxis.tick_left() \n",
    "        axs_small[j].yaxis.set_label_position('left')\n",
    "        axs_small[j].xaxis.set_ticks_position('bottom')\n",
    "        if LETTERLABELS: label_axis(axs_small[j], chr(ord('`') + j + 5))\n",
    "        \n",
    "    if key == 'swe':\n",
    "        axs_small[j].plot(ucladf.index, ucladf.ts_snowy * 1000, linestyle = ':', color = catcolors[1])\n",
    "        axs_small[j].plot(ucladf.index, ucladf.ts_land * 1000, linestyle = ':', color = catcolors[0], label = 'reanalysis')\n",
    "        axs_small[j].plot(ucla_years, ucla_snotel_m_ts, linestyle = ':', color = catcolors[2])\n",
    "            \n",
    "    axs_small[j].set_ylim((plotranges[key][0], plotranges[key][1]))\n",
    "    # axs_small[j].set_ylabel(label)\n",
    "    axs_small[0].legend(frameon = False, ncol =1)\n",
    "    j+=1\n",
    "    \n",
    "\n",
    "ax_large.set_xlabel(r'Longitude [$\\degree$]')\n",
    "ax_large.set_ylabel(r'Latitude [$\\degree$]')\n",
    "\n",
    "ax_large.set_xlim((-125.2,-104))\n",
    "ax_large.set_ylim((32,50))\n",
    "ax_large.legend(loc = 'lower left')\n",
    "\n",
    "plt.show()"
   ]
  }
 ],
 "metadata": {
  "kernelspec": {
   "display_name": "fos",
   "language": "python",
   "name": "fos"
  },
  "language_info": {
   "codemirror_mode": {
    "name": "ipython",
    "version": 3
   },
   "file_extension": ".py",
   "mimetype": "text/x-python",
   "name": "python",
   "nbconvert_exporter": "python",
   "pygments_lexer": "ipython3",
   "version": "3.11.0"
  }
 },
 "nbformat": 4,
 "nbformat_minor": 5
}
